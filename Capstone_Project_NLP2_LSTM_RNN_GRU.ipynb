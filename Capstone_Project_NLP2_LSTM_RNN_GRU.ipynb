{
 "cells": [
  {
   "cell_type": "code",
   "execution_count": 75,
   "id": "893b4286",
   "metadata": {},
   "outputs": [],
   "source": [
    "import pandas as pd\n",
    "import matplotlib.pyplot as plt\n",
    "import seaborn as sns\n",
    "import numpy as np\n",
    "plt.style.use(\"ggplot\")\n",
    "import tensorflow as tf\n",
    "import warnings\n",
    "warnings.filterwarnings('ignore')\n",
    "from tensorflow.keras.preprocessing.text import Tokenizer\n",
    "from tensorflow.keras.layers import Embedding\n",
    "from imblearn.over_sampling import SMOTE\n",
    "from imblearn.over_sampling import SMOTEN\n",
    "from imblearn.under_sampling import RandomUnderSampler\n",
    "from sklearn.pipeline import Pipeline\n",
    "from tensorflow.keras.preprocessing.sequence import pad_sequences\n",
    "from sklearn.model_selection import train_test_split"
   ]
  },
  {
   "cell_type": "code",
   "execution_count": 76,
   "id": "c0f99890",
   "metadata": {},
   "outputs": [],
   "source": [
    "industry_data = pd.read_csv('cleaned_industry_safety_data.csv')"
   ]
  },
  {
   "cell_type": "code",
   "execution_count": 77,
   "id": "768d1ac1",
   "metadata": {},
   "outputs": [
    {
     "data": {
      "text/html": [
       "<div>\n",
       "<style scoped>\n",
       "    .dataframe tbody tr th:only-of-type {\n",
       "        vertical-align: middle;\n",
       "    }\n",
       "\n",
       "    .dataframe tbody tr th {\n",
       "        vertical-align: top;\n",
       "    }\n",
       "\n",
       "    .dataframe thead th {\n",
       "        text-align: right;\n",
       "    }\n",
       "</style>\n",
       "<table border=\"1\" class=\"dataframe\">\n",
       "  <thead>\n",
       "    <tr style=\"text-align: right;\">\n",
       "      <th></th>\n",
       "      <th>Unnamed: 0</th>\n",
       "      <th>Accident_Level</th>\n",
       "      <th>clean_description</th>\n",
       "    </tr>\n",
       "  </thead>\n",
       "  <tbody>\n",
       "    <tr>\n",
       "      <th>0</th>\n",
       "      <td>0</td>\n",
       "      <td>0</td>\n",
       "      <td>pressed while removing the drill rod the jumbo...</td>\n",
       "    </tr>\n",
       "    <tr>\n",
       "      <th>1</th>\n",
       "      <td>1</td>\n",
       "      <td>0</td>\n",
       "      <td>pressurized system during the activation sodiu...</td>\n",
       "    </tr>\n",
       "    <tr>\n",
       "      <th>2</th>\n",
       "      <td>2</td>\n",
       "      <td>0</td>\n",
       "      <td>manual tool the substation milpo located level...</td>\n",
       "    </tr>\n",
       "    <tr>\n",
       "      <th>3</th>\n",
       "      <td>3</td>\n",
       "      <td>0</td>\n",
       "      <td>others being 945 approximately the 1880 cx695 ...</td>\n",
       "    </tr>\n",
       "    <tr>\n",
       "      <th>4</th>\n",
       "      <td>4</td>\n",
       "      <td>3</td>\n",
       "      <td>others approximately 1145 circumstance that th...</td>\n",
       "    </tr>\n",
       "  </tbody>\n",
       "</table>\n",
       "</div>"
      ],
      "text/plain": [
       "   Unnamed: 0  Accident_Level  \\\n",
       "0           0               0   \n",
       "1           1               0   \n",
       "2           2               0   \n",
       "3           3               0   \n",
       "4           4               3   \n",
       "\n",
       "                                   clean_description  \n",
       "0  pressed while removing the drill rod the jumbo...  \n",
       "1  pressurized system during the activation sodiu...  \n",
       "2  manual tool the substation milpo located level...  \n",
       "3  others being 945 approximately the 1880 cx695 ...  \n",
       "4  others approximately 1145 circumstance that th...  "
      ]
     },
     "execution_count": 77,
     "metadata": {},
     "output_type": "execute_result"
    }
   ],
   "source": [
    "industry_data.head()"
   ]
  },
  {
   "cell_type": "code",
   "execution_count": 78,
   "id": "4169f41a",
   "metadata": {},
   "outputs": [],
   "source": [
    "industry_data.drop(['Unnamed: 0'],axis = 1, inplace = True)"
   ]
  },
  {
   "cell_type": "code",
   "execution_count": 79,
   "id": "0a0cc037",
   "metadata": {},
   "outputs": [
    {
     "data": {
      "text/html": [
       "<div>\n",
       "<style scoped>\n",
       "    .dataframe tbody tr th:only-of-type {\n",
       "        vertical-align: middle;\n",
       "    }\n",
       "\n",
       "    .dataframe tbody tr th {\n",
       "        vertical-align: top;\n",
       "    }\n",
       "\n",
       "    .dataframe thead th {\n",
       "        text-align: right;\n",
       "    }\n",
       "</style>\n",
       "<table border=\"1\" class=\"dataframe\">\n",
       "  <thead>\n",
       "    <tr style=\"text-align: right;\">\n",
       "      <th></th>\n",
       "      <th>Accident_Level</th>\n",
       "      <th>clean_description</th>\n",
       "    </tr>\n",
       "  </thead>\n",
       "  <tbody>\n",
       "    <tr>\n",
       "      <th>0</th>\n",
       "      <td>0</td>\n",
       "      <td>pressed while removing the drill rod the jumbo...</td>\n",
       "    </tr>\n",
       "    <tr>\n",
       "      <th>1</th>\n",
       "      <td>0</td>\n",
       "      <td>pressurized system during the activation sodiu...</td>\n",
       "    </tr>\n",
       "    <tr>\n",
       "      <th>2</th>\n",
       "      <td>0</td>\n",
       "      <td>manual tool the substation milpo located level...</td>\n",
       "    </tr>\n",
       "    <tr>\n",
       "      <th>3</th>\n",
       "      <td>0</td>\n",
       "      <td>others being 945 approximately the 1880 cx695 ...</td>\n",
       "    </tr>\n",
       "    <tr>\n",
       "      <th>4</th>\n",
       "      <td>3</td>\n",
       "      <td>others approximately 1145 circumstance that th...</td>\n",
       "    </tr>\n",
       "  </tbody>\n",
       "</table>\n",
       "</div>"
      ],
      "text/plain": [
       "   Accident_Level                                  clean_description\n",
       "0               0  pressed while removing the drill rod the jumbo...\n",
       "1               0  pressurized system during the activation sodiu...\n",
       "2               0  manual tool the substation milpo located level...\n",
       "3               0  others being 945 approximately the 1880 cx695 ...\n",
       "4               3  others approximately 1145 circumstance that th..."
      ]
     },
     "execution_count": 79,
     "metadata": {},
     "output_type": "execute_result"
    }
   ],
   "source": [
    "industry_data.head()"
   ]
  },
  {
   "cell_type": "code",
   "execution_count": 80,
   "id": "ef5977ba",
   "metadata": {},
   "outputs": [
    {
     "data": {
      "text/plain": [
       "(418, 2)"
      ]
     },
     "execution_count": 80,
     "metadata": {},
     "output_type": "execute_result"
    }
   ],
   "source": [
    "industry_data.shape"
   ]
  },
  {
   "cell_type": "markdown",
   "id": "eacab8c0",
   "metadata": {},
   "source": [
    "### Oversampling is required due to class imbalance problem"
   ]
  },
  {
   "cell_type": "code",
   "execution_count": 81,
   "id": "4e2d1651",
   "metadata": {},
   "outputs": [
    {
     "name": "stdout",
     "output_type": "stream",
     "text": [
      "Int64Index([0, 1, 2, 3, 4], dtype='int64')\n",
      "309\n"
     ]
    }
   ],
   "source": [
    "counts = industry_data['Accident_Level'].value_counts()\n",
    "print(counts.index)\n",
    "print(counts[0])"
   ]
  },
  {
   "cell_type": "code",
   "execution_count": 82,
   "id": "4470f9a9",
   "metadata": {},
   "outputs": [],
   "source": [
    "industry_data.reset_index(inplace = True)"
   ]
  },
  {
   "cell_type": "code",
   "execution_count": 83,
   "id": "00e796c5",
   "metadata": {},
   "outputs": [],
   "source": [
    "oversample = SMOTEN()\n",
    "X = np.asarray(industry_data['clean_description']).reshape(industry_data.shape[0],-1)\n",
    "y = industry_data['Accident_Level']\n",
    "X,y = oversample.fit_resample(X, y)"
   ]
  },
  {
   "cell_type": "code",
   "execution_count": 84,
   "id": "1944db9c",
   "metadata": {},
   "outputs": [
    {
     "data": {
      "text/plain": [
       "(1545, 1)"
      ]
     },
     "execution_count": 84,
     "metadata": {},
     "output_type": "execute_result"
    }
   ],
   "source": [
    "X.shape"
   ]
  },
  {
   "cell_type": "code",
   "execution_count": 85,
   "id": "576219ae",
   "metadata": {},
   "outputs": [
    {
     "data": {
      "text/plain": [
       "(1545,)"
      ]
     },
     "execution_count": 85,
     "metadata": {},
     "output_type": "execute_result"
    }
   ],
   "source": [
    "y.shape"
   ]
  },
  {
   "cell_type": "code",
   "execution_count": 86,
   "id": "8fa4817a",
   "metadata": {},
   "outputs": [
    {
     "data": {
      "text/html": [
       "<div>\n",
       "<style scoped>\n",
       "    .dataframe tbody tr th:only-of-type {\n",
       "        vertical-align: middle;\n",
       "    }\n",
       "\n",
       "    .dataframe tbody tr th {\n",
       "        vertical-align: top;\n",
       "    }\n",
       "\n",
       "    .dataframe thead th {\n",
       "        text-align: right;\n",
       "    }\n",
       "</style>\n",
       "<table border=\"1\" class=\"dataframe\">\n",
       "  <thead>\n",
       "    <tr style=\"text-align: right;\">\n",
       "      <th></th>\n",
       "      <th>description</th>\n",
       "      <th>Accident_Level</th>\n",
       "    </tr>\n",
       "  </thead>\n",
       "  <tbody>\n",
       "    <tr>\n",
       "      <th>0</th>\n",
       "      <td>pressed while removing the drill rod the jumbo...</td>\n",
       "      <td>0</td>\n",
       "    </tr>\n",
       "    <tr>\n",
       "      <th>1</th>\n",
       "      <td>pressurized system during the activation sodiu...</td>\n",
       "      <td>0</td>\n",
       "    </tr>\n",
       "    <tr>\n",
       "      <th>2</th>\n",
       "      <td>manual tool the substation milpo located level...</td>\n",
       "      <td>0</td>\n",
       "    </tr>\n",
       "    <tr>\n",
       "      <th>3</th>\n",
       "      <td>others being 945 approximately the 1880 cx695 ...</td>\n",
       "      <td>0</td>\n",
       "    </tr>\n",
       "    <tr>\n",
       "      <th>4</th>\n",
       "      <td>others approximately 1145 circumstance that th...</td>\n",
       "      <td>3</td>\n",
       "    </tr>\n",
       "  </tbody>\n",
       "</table>\n",
       "</div>"
      ],
      "text/plain": [
       "                                         description  Accident_Level\n",
       "0  pressed while removing the drill rod the jumbo...               0\n",
       "1  pressurized system during the activation sodiu...               0\n",
       "2  manual tool the substation milpo located level...               0\n",
       "3  others being 945 approximately the 1880 cx695 ...               0\n",
       "4  others approximately 1145 circumstance that th...               3"
      ]
     },
     "execution_count": 86,
     "metadata": {},
     "output_type": "execute_result"
    }
   ],
   "source": [
    "xdf = pd.DataFrame(X,columns = ['description'])\n",
    "ydf = pd.DataFrame(y,columns = ['Accident_Level'])\n",
    "industry_data = pd.concat([xdf,ydf],axis = 1)\n",
    "industry_data.head()"
   ]
  },
  {
   "cell_type": "code",
   "execution_count": 87,
   "id": "f38af853",
   "metadata": {},
   "outputs": [
    {
     "data": {
      "text/plain": [
       "(1545, 2)"
      ]
     },
     "execution_count": 87,
     "metadata": {},
     "output_type": "execute_result"
    }
   ],
   "source": [
    "industry_data.shape"
   ]
  },
  {
   "cell_type": "code",
   "execution_count": 88,
   "id": "bab4d672",
   "metadata": {},
   "outputs": [
    {
     "name": "stdout",
     "output_type": "stream",
     "text": [
      "84214\n"
     ]
    }
   ],
   "source": [
    "total_word_count = 0\n",
    "for line in industry_data['description']:\n",
    "    words = line.split()\n",
    "    total_word_count += len(words)\n",
    "print(total_word_count)"
   ]
  },
  {
   "cell_type": "code",
   "execution_count": 89,
   "id": "5ebcb2b7",
   "metadata": {},
   "outputs": [],
   "source": [
    "\n",
    "MAX_WORDS = 75000"
   ]
  },
  {
   "cell_type": "code",
   "execution_count": 90,
   "id": "1f4791eb",
   "metadata": {},
   "outputs": [],
   "source": [
    "tokens = Tokenizer(num_words=MAX_WORDS, split=' ', oov_token='<OOV>')"
   ]
  },
  {
   "cell_type": "code",
   "execution_count": 91,
   "id": "98c15804",
   "metadata": {},
   "outputs": [],
   "source": [
    "pad_type = 'post' \n",
    "trunc_type = 'post'\n",
    "#max_len = 500\n",
    "threshold = 0.99 # to stop trainng the model once it reaches 90% accuracy\n",
    "batch_size = 32\n",
    "EMBEDDING_DIM=50\n",
    "MAX_SEQUENCE_LENGTH = 500"
   ]
  },
  {
   "cell_type": "code",
   "execution_count": 92,
   "id": "edf7cae1",
   "metadata": {},
   "outputs": [],
   "source": [
    "#text = np.array(X)\n"
   ]
  },
  {
   "cell_type": "code",
   "execution_count": 93,
   "id": "0de59362",
   "metadata": {},
   "outputs": [
    {
     "name": "stdout",
     "output_type": "stream",
     "text": [
      "pressed while removing the drill rod the jumbo for maintenance the supervisor proceeds loosen the support the intermediate centralizer facilitate the removal seeing this the mechanic support one end the drill the equipment pull with both hand the bar and accelerate the removal from this this moment the bar slide from it point support and tightens the finger the mechanic between the drilling bar and the beam the jumbo\n",
      "(1236,) (1236,) (309,) (309,)\n"
     ]
    }
   ],
   "source": [
    "text = np.array(industry_data['description'].values)\n",
    "label = np.array(industry_data['Accident_Level'].values)\n",
    "print(text[0])\n",
    "X_train, X_test, y_train, y_test = train_test_split(text, label, test_size=0.2)\n",
    "print(X_train.shape,y_train.shape,X_test.shape,y_test.shape)"
   ]
  },
  {
   "cell_type": "code",
   "execution_count": 94,
   "id": "b00bcbb3",
   "metadata": {},
   "outputs": [],
   "source": [
    "def prepare_input_data(X_train,X_test):\n",
    "    np.random.seed(7)\n",
    "    text = np.concatenate((X_train, X_test), axis=0)\n",
    "    tokens = Tokenizer(num_words=MAX_WORDS)\n",
    "    text = np.array(text)\n",
    "    tokens.fit_on_texts(text)\n",
    "    text = np.array(text)\n",
    "    sequences = tokens.texts_to_sequences(text)\n",
    "    word_index = tokens.word_index\n",
    "    text = pad_sequences(sequences, maxlen=MAX_SEQUENCE_LENGTH)\n",
    "    print('Found %s unique tokens.' % len(word_index))\n",
    "    indices = np.arange(text.shape[0])\n",
    "    text = text[indices]\n",
    "    print(text.shape)\n",
    "    X_train_Glove = text[0:len(X_train), ]\n",
    "    X_test_Glove = text[len(X_train):, ]  \n",
    "    vocab_size = len(tokens.word_index)\n",
    "    return X_train_Glove,X_test_Glove, word_index,\n"
   ]
  },
  {
   "cell_type": "code",
   "execution_count": 95,
   "id": "484b1ca3",
   "metadata": {},
   "outputs": [
    {
     "name": "stdout",
     "output_type": "stream",
     "text": [
      "Found 3178 unique tokens.\n",
      "(1545, 500)\n"
     ]
    }
   ],
   "source": [
    "X_train_Glove,X_test_Glove, word_index = prepare_input_data(X_train,X_test)"
   ]
  },
  {
   "cell_type": "code",
   "execution_count": 96,
   "id": "84744638",
   "metadata": {},
   "outputs": [
    {
     "name": "stdout",
     "output_type": "stream",
     "text": [
      "3178\n"
     ]
    }
   ],
   "source": [
    "vocab_size = len(word_index)\n",
    "print(vocab_size)"
   ]
  },
  {
   "cell_type": "code",
   "execution_count": 97,
   "id": "6c5e6734",
   "metadata": {},
   "outputs": [],
   "source": [
    "#vocab_size = total_word_count\n",
    "embedding_index = dict()\n",
    "file = open('glove.6B.50d.txt',encoding = 'utf8')\n",
    "for line in file:\n",
    "    values = line.split(' ')\n",
    "    word = values[0]\n",
    "    coeffs = np.asarray(values[1:],dtype = 'float32')\n",
    "    embedding_index[word] = coeffs\n",
    "file.close()    "
   ]
  },
  {
   "cell_type": "code",
   "execution_count": 98,
   "id": "ef05778d",
   "metadata": {},
   "outputs": [],
   "source": [
    "embedding_matrix = np.zeros((vocab_size+1,50))\n",
    "for word,i in tokens.word_index.items():\n",
    "    embedding_vector = embedding_index.get(word)\n",
    "    if embedding_vector is not None:\n",
    "        if len(embedding_matrix[i]) != len(embedding_vector):\n",
    "                print(\"could not broadcast input array from shape\", str(len(embedding_matrix[i])),\n",
    "                      \"into shape\", str(len(embedding_vector)), \" Please make sure your\"\n",
    "                                                                \" EMBEDDING_DIM is equal to embedding_vector file ,GloVe,\")\n",
    "                exit(1)\n",
    "        embedding_matrix[i] = embedding_vector\n",
    "    "
   ]
  },
  {
   "cell_type": "code",
   "execution_count": 99,
   "id": "65ad5229",
   "metadata": {},
   "outputs": [
    {
     "data": {
      "text/plain": [
       "(3179, 50)"
      ]
     },
     "execution_count": 99,
     "metadata": {},
     "output_type": "execute_result"
    }
   ],
   "source": [
    "embedding_matrix.shape"
   ]
  },
  {
   "cell_type": "code",
   "execution_count": null,
   "id": "d27ef3e8",
   "metadata": {},
   "outputs": [],
   "source": [
    "\n",
    "\n"
   ]
  },
  {
   "cell_type": "code",
   "execution_count": 100,
   "id": "38729194",
   "metadata": {},
   "outputs": [],
   "source": [
    "embedding_layer = Embedding(input_dim = vocab_size+1, output_dim = EMBEDDING_DIM,weights=[embedding_matrix],\n",
    "                           input_length=MAX_SEQUENCE_LENGTH,\n",
    "                           trainable = True)"
   ]
  },
  {
   "cell_type": "code",
   "execution_count": 101,
   "id": "4abd02f8",
   "metadata": {},
   "outputs": [],
   "source": [
    "from tensorflow.keras.models import Model\n",
    "from tensorflow.keras import Sequential\n",
    "from tensorflow.keras.layers import LSTM, SimpleRNN,GlobalMaxPool1D,Dropout,GRU, Bidirectional, Lambda, Flatten,Input, Add,Dense,BatchNormalization\n",
    "from tensorflow.keras import backend as k\n",
    "from tensorflow.keras import regularizers\n",
    "from tensorflow.keras.optimizers import Adam\n",
    "from tensorflow.keras.losses import CategoricalCrossentropy\n",
    "from sklearn.model_selection import train_test_split\n",
    "from tensorflow.keras.layers import Dense, Embedding, LSTM, SpatialDropout1D\n",
    "from tensorflow.keras.optimizers import SGD,Adam\n",
    "import os\n",
    "os.environ['AUTOGRAPH_VERBOSITY'] = '0'\n",
    "opt = SGD(lr=0.01, momentum=0.9)\n"
   ]
  },
  {
   "cell_type": "code",
   "execution_count": null,
   "id": "7369ff28",
   "metadata": {},
   "outputs": [],
   "source": []
  },
  {
   "cell_type": "code",
   "execution_count": 111,
   "id": "180f8e91",
   "metadata": {},
   "outputs": [
    {
     "name": "stdout",
     "output_type": "stream",
     "text": [
      "Model: \"sequential_14\"\n",
      "_________________________________________________________________\n",
      " Layer (type)                Output Shape              Param #   \n",
      "=================================================================\n",
      " embedding_8 (Embedding)     (None, 500, 50)           158950    \n",
      "                                                                 \n",
      " lstm_33 (LSTM)              (None, 500, 32)           10624     \n",
      "                                                                 \n",
      " dropout_32 (Dropout)        (None, 500, 32)           0         \n",
      "                                                                 \n",
      " lstm_34 (LSTM)              (None, 16)                3136      \n",
      "                                                                 \n",
      " dropout_33 (Dropout)        (None, 16)                0         \n",
      "                                                                 \n",
      " dense_20 (Dense)            (None, 5)                 85        \n",
      "                                                                 \n",
      "=================================================================\n",
      "Total params: 172,795\n",
      "Trainable params: 172,795\n",
      "Non-trainable params: 0\n",
      "_________________________________________________________________\n"
     ]
    }
   ],
   "source": [
    "lstm_model = Sequential()\n",
    "lstm_model.add(embedding_layer)\n",
    "lstm_model.add(LSTM(32, return_sequences = True, recurrent_dropout=0.2))\n",
    "lstm_model.add(Dropout(0.5))\n",
    "#lstm_model.add(LSTM(32, return_sequences = True, recurrent_dropout=0.2))\n",
    "#lstm_model.add(Dropout(0.5))\n",
    "#lstm_model.add(LSTM(32, return_sequences = True, recurrent_dropout=0.2))\n",
    "#lstm_model.add(Dropout(0.5))\n",
    "#lstm_model.add(GlobalMaxPool1D())\n",
    "#lstm_model.add(LSTM(32, return_sequences = True,recurrent_dropout=0.2))\n",
    "#lstm_model.add(Dropout(0.5))\n",
    "lstm_model.add(LSTM(16, recurrent_dropout=0.2))\n",
    "lstm_model.add(Dropout(0.5))\n",
    "#lstm_model.add(Dense(256,activation = 'relu'))\n",
    "lstm_model.add(Dense(5,activation = 'softmax'))\n",
    "lstm_model.compile(loss=tf.keras.losses.sparse_categorical_crossentropy,optimizer = 'adam',metrics = ['accuracy'])\n",
    "lstm_model.summary()\n",
    "#loss=tf.keras.losses.sparse_categorical_crossentropy"
   ]
  },
  {
   "cell_type": "code",
   "execution_count": 114,
   "id": "1e590827",
   "metadata": {},
   "outputs": [
    {
     "name": "stdout",
     "output_type": "stream",
     "text": [
      "Epoch 1/10\n",
      "78/78 [==============================] - 74s 946ms/step - loss: 0.4029 - accuracy: 0.9183 - val_loss: 0.3368 - val_accuracy: 0.9353\n",
      "Epoch 2/10\n",
      "78/78 [==============================] - 73s 936ms/step - loss: 0.3352 - accuracy: 0.9353 - val_loss: 0.2935 - val_accuracy: 0.9288\n",
      "Epoch 3/10\n",
      "78/78 [==============================] - 72s 920ms/step - loss: 0.2751 - accuracy: 0.9498 - val_loss: 0.2993 - val_accuracy: 0.9094\n",
      "Epoch 4/10\n",
      "78/78 [==============================] - 71s 909ms/step - loss: 0.1909 - accuracy: 0.9676 - val_loss: 0.2932 - val_accuracy: 0.9256\n",
      "Epoch 5/10\n",
      "78/78 [==============================] - 72s 923ms/step - loss: 0.1715 - accuracy: 0.9684 - val_loss: 0.2723 - val_accuracy: 0.9256\n",
      "Epoch 6/10\n",
      "78/78 [==============================] - 70s 902ms/step - loss: 0.1299 - accuracy: 0.9846 - val_loss: 0.2943 - val_accuracy: 0.9320\n",
      "Epoch 7/10\n",
      "78/78 [==============================] - 74s 953ms/step - loss: 0.1873 - accuracy: 0.9660 - val_loss: 0.2779 - val_accuracy: 0.9320\n",
      "Epoch 8/10\n",
      "78/78 [==============================] - 71s 910ms/step - loss: 0.1087 - accuracy: 0.9854 - val_loss: 0.2889 - val_accuracy: 0.9320\n",
      "Epoch 9/10\n",
      "78/78 [==============================] - 72s 920ms/step - loss: 0.1059 - accuracy: 0.9838 - val_loss: 0.3146 - val_accuracy: 0.9256\n",
      "Epoch 10/10\n",
      "78/78 [==============================] - 71s 916ms/step - loss: 0.0866 - accuracy: 0.9895 - val_loss: 0.3149 - val_accuracy: 0.9320\n"
     ]
    }
   ],
   "source": [
    "from keras.callbacks import EarlyStopping\n",
    "es = EarlyStopping(monitor='val_loss', verbose=1, mode='min', patience=100)\n",
    "lstm_hist = lstm_model.fit(X_train_Glove, \n",
    "          y_train, \n",
    "          validation_data=[X_test_Glove, y_test],\n",
    "          callbacks = [es],\n",
    "          batch_size=16, \n",
    "          epochs=10\n",
    "        )"
   ]
  },
  {
   "cell_type": "code",
   "execution_count": 116,
   "id": "0c7a0478",
   "metadata": {},
   "outputs": [
    {
     "data": {
      "image/png": "[encoded data removed]",
      "text/plain": [
       "<Figure size 432x288 with 1 Axes>"
      ]
     },
     "metadata": {},
     "output_type": "display_data"
    },
    {
     "data": {
      "image/png": "[encoded data removed]",
      "text/plain": [
       "<Figure size 432x288 with 1 Axes>"
      ]
     },
     "metadata": {},
     "output_type": "display_data"
    }
   ],
   "source": [
    "def plot_graphs(history, string):\n",
    "    plt.plot(history.history[string])\n",
    "    plt.plot(history.history['val_'+string], '')\n",
    "    plt.xlabel(\"Epochs\")\n",
    "    plt.ylabel(string)\n",
    "    plt.legend([string, 'val_'+string])\n",
    "    plt.show()\n",
    "plot_graphs(lstm_hist, 'accuracy')\n",
    "plot_graphs(lstm_hist, 'loss')\n"
   ]
  },
  {
   "cell_type": "code",
   "execution_count": 123,
   "id": "5544790f",
   "metadata": {},
   "outputs": [
    {
     "name": "stdout",
     "output_type": "stream",
     "text": [
      "Model Evaluation\n",
      "              precision    recall  f1-score   support\n",
      "\n",
      "           0       0.82      0.94      0.88        68\n",
      "           1       0.92      0.90      0.91        63\n",
      "           2       1.00      0.90      0.95        58\n",
      "           3       0.96      0.90      0.93        49\n",
      "           4       1.00      1.00      1.00        71\n",
      "\n",
      "    accuracy                           0.93       309\n",
      "   macro avg       0.94      0.93      0.93       309\n",
      "weighted avg       0.94      0.93      0.93       309\n",
      "\n",
      "\n",
      "\n",
      "LSTM test Accuracy 0.9320388349514563\n"
     ]
    },
    {
     "data": {
      "image/png": "[encoded data removed]",
      "text/plain": [
       "<Figure size 360x288 with 2 Axes>"
      ]
     },
     "metadata": {},
     "output_type": "display_data"
    }
   ],
   "source": [
    "from sklearn.metrics import accuracy_score, confusion_matrix,precision_score,classification_report,recall_score\n",
    "print(\"Model Evaluation\")\n",
    "lstm_predicted = lstm_model.predict(X_test_Glove)\n",
    "lstm_predicted=np.argmax(lstm_predicted,axis=1)\n",
    "print(classification_report(y_test, lstm_predicted))\n",
    "print(\"\\n\")\n",
    "lstm_cm = confusion_matrix(y_test, lstm_predicted)\n",
    "lstm_accuracy = accuracy_score(y_test, lstm_predicted)\n",
    "print(\"LSTM test Accuracy\",lstm_accuracy)\n",
    "cm_df = pd.DataFrame(lstm_cm,index = ['0','1','2','3','4'], \n",
    "                     columns = ['0','1','2','3','4'])\n",
    "# Confusion matrix is predicting values outside expected range\n",
    "#Plotting the confusion matrix\n",
    "plt.figure(figsize=(5,4))\n",
    "sns.heatmap(cm_df, annot=True)\n",
    "plt.title('Confusion Matrix')\n",
    "plt.ylabel('Actual Values')\n",
    "plt.xlabel('Predicted Values')\n",
    "plt.show()\n",
    "\n"
   ]
  },
  {
   "cell_type": "code",
   "execution_count": 132,
   "id": "6b4f6e0b",
   "metadata": {},
   "outputs": [],
   "source": [
    "import pickle\n",
    "from keras.models import load_model\n",
    "lstm_model.save('lstm_model.h5') \n",
    "#filename = \"lstm_model.pkl\"\n",
    "#pickle.dump(lstm_model, open(filename, 'wb'))\n",
    "model.save_weights('lstm_Weights')\n"
   ]
  },
  {
   "cell_type": "code",
   "execution_count": 138,
   "id": "745e0860",
   "metadata": {},
   "outputs": [
    {
     "name": "stdout",
     "output_type": "stream",
     "text": [
      "Model: \"sequential_14\"\n",
      "_________________________________________________________________\n",
      " Layer (type)                Output Shape              Param #   \n",
      "=================================================================\n",
      " embedding_8 (Embedding)     (None, 500, 50)           158950    \n",
      "                                                                 \n",
      " lstm_33 (LSTM)              (None, 500, 32)           10624     \n",
      "                                                                 \n",
      " dropout_32 (Dropout)        (None, 500, 32)           0         \n",
      "                                                                 \n",
      " lstm_34 (LSTM)              (None, 16)                3136      \n",
      "                                                                 \n",
      " dropout_33 (Dropout)        (None, 16)                0         \n",
      "                                                                 \n",
      " dense_20 (Dense)            (None, 5)                 85        \n",
      "                                                                 \n",
      "=================================================================\n",
      "Total params: 172,795\n",
      "Trainable params: 172,795\n",
      "Non-trainable params: 0\n",
      "_________________________________________________________________\n",
      "WARNING:tensorflow:AutoGraph could not transform <function Model.make_predict_function.<locals>.predict_function at 0x7fe32e64d560> and will run it as-is.\n",
      "Please report this to the TensorFlow team. When filing the bug, set the verbosity to 10 (on Linux, `export AUTOGRAPH_VERBOSITY=10`) and attach the full output.\n",
      "Cause: 'arguments' object has no attribute 'posonlyargs'\n",
      "To silence this warning, decorate the function with @tf.autograph.experimental.do_not_convert\n"
     ]
    },
    {
     "name": "stderr",
     "output_type": "stream",
     "text": [
      "WARNING:tensorflow:AutoGraph could not transform <function Model.make_predict_function.<locals>.predict_function at 0x7fe32e64d560> and will run it as-is.\n",
      "Please report this to the TensorFlow team. When filing the bug, set the verbosity to 10 (on Linux, `export AUTOGRAPH_VERBOSITY=10`) and attach the full output.\n",
      "Cause: 'arguments' object has no attribute 'posonlyargs'\n",
      "To silence this warning, decorate the function with @tf.autograph.experimental.do_not_convert\n"
     ]
    },
    {
     "name": "stdout",
     "output_type": "stream",
     "text": [
      "WARNING: AutoGraph could not transform <function Model.make_predict_function.<locals>.predict_function at 0x7fe32e64d560> and will run it as-is.\n",
      "Please report this to the TensorFlow team. When filing the bug, set the verbosity to 10 (on Linux, `export AUTOGRAPH_VERBOSITY=10`) and attach the full output.\n",
      "Cause: 'arguments' object has no attribute 'posonlyargs'\n",
      "To silence this warning, decorate the function with @tf.autograph.experimental.do_not_convert\n"
     ]
    }
   ],
   "source": [
    "loaded_model = load_model('lstm_model.h5') \n",
    "loaded_model.summary()\n",
    "result = loaded_model.predict(X_test_Glove)\n",
    "#savedModel = loaded_model.load_weights('lstm_Weights')"
   ]
  },
  {
   "cell_type": "code",
   "execution_count": 143,
   "id": "0219c4a7",
   "metadata": {},
   "outputs": [
    {
     "name": "stdout",
     "output_type": "stream",
     "text": [
      "Acc score  0.9320388349514563\n"
     ]
    }
   ],
   "source": [
    "pred_result=np.argmax(result,axis=1)\n",
    "acc_score = accuracy_score(y_test,pred_result)\n",
    "print(\"Acc score \",acc_score)"
   ]
  },
  {
   "cell_type": "markdown",
   "id": "ba5ccd82",
   "metadata": {},
   "source": [
    "### RNN model"
   ]
  },
  {
   "cell_type": "code",
   "execution_count": 144,
   "id": "f168fc18",
   "metadata": {},
   "outputs": [],
   "source": [
    "rnn_model = tf.keras.Sequential([\n",
    "        tf.keras.layers.Embedding(input_dim=vocab_size+1,output_dim=50,mask_zero=True),\n",
    "        tf.keras.layers.Bidirectional(tf.keras.layers.LSTM(64)),\n",
    "        tf.keras.layers.Dense(64, activation='relu'),\n",
    "        tf.keras.layers.Dense(5,activation = 'softmax')\n",
    "])"
   ]
  },
  {
   "cell_type": "code",
   "execution_count": 145,
   "id": "60e4be6a",
   "metadata": {},
   "outputs": [],
   "source": [
    "rnn_model.compile(loss=tf.keras.losses.sparse_categorical_crossentropy,\n",
    "              optimizer=tf.keras.optimizers.Adam(1e-4),\n",
    "              metrics=['accuracy'])"
   ]
  },
  {
   "cell_type": "code",
   "execution_count": 146,
   "id": "1476a7a3",
   "metadata": {},
   "outputs": [
    {
     "name": "stdout",
     "output_type": "stream",
     "text": [
      "Epoch 1/10\n",
      "WARNING:tensorflow:AutoGraph could not transform <function Model.make_train_function.<locals>.train_function at 0x7fe3b243bc20> and will run it as-is.\n",
      "Please report this to the TensorFlow team. When filing the bug, set the verbosity to 10 (on Linux, `export AUTOGRAPH_VERBOSITY=10`) and attach the full output.\n",
      "Cause: 'arguments' object has no attribute 'posonlyargs'\n",
      "To silence this warning, decorate the function with @tf.autograph.experimental.do_not_convert\n"
     ]
    },
    {
     "name": "stderr",
     "output_type": "stream",
     "text": [
      "WARNING:tensorflow:AutoGraph could not transform <function Model.make_train_function.<locals>.train_function at 0x7fe3b243bc20> and will run it as-is.\n",
      "Please report this to the TensorFlow team. When filing the bug, set the verbosity to 10 (on Linux, `export AUTOGRAPH_VERBOSITY=10`) and attach the full output.\n",
      "Cause: 'arguments' object has no attribute 'posonlyargs'\n",
      "To silence this warning, decorate the function with @tf.autograph.experimental.do_not_convert\n"
     ]
    },
    {
     "name": "stdout",
     "output_type": "stream",
     "text": [
      "WARNING: AutoGraph could not transform <function Model.make_train_function.<locals>.train_function at 0x7fe3b243bc20> and will run it as-is.\n",
      "Please report this to the TensorFlow team. When filing the bug, set the verbosity to 10 (on Linux, `export AUTOGRAPH_VERBOSITY=10`) and attach the full output.\n",
      "Cause: 'arguments' object has no attribute 'posonlyargs'\n",
      "To silence this warning, decorate the function with @tf.autograph.experimental.do_not_convert\n",
      "39/39 [==============================] - ETA: 0s - loss: 1.5974 - accuracy: 0.5995WARNING:tensorflow:AutoGraph could not transform <function Model.make_test_function.<locals>.test_function at 0x7fe3483d48c0> and will run it as-is.\n",
      "Please report this to the TensorFlow team. When filing the bug, set the verbosity to 10 (on Linux, `export AUTOGRAPH_VERBOSITY=10`) and attach the full output.\n",
      "Cause: 'arguments' object has no attribute 'posonlyargs'\n",
      "To silence this warning, decorate the function with @tf.autograph.experimental.do_not_convert\n"
     ]
    },
    {
     "name": "stderr",
     "output_type": "stream",
     "text": [
      "WARNING:tensorflow:AutoGraph could not transform <function Model.make_test_function.<locals>.test_function at 0x7fe3483d48c0> and will run it as-is.\n",
      "Please report this to the TensorFlow team. When filing the bug, set the verbosity to 10 (on Linux, `export AUTOGRAPH_VERBOSITY=10`) and attach the full output.\n",
      "Cause: 'arguments' object has no attribute 'posonlyargs'\n",
      "To silence this warning, decorate the function with @tf.autograph.experimental.do_not_convert\n"
     ]
    },
    {
     "name": "stdout",
     "output_type": "stream",
     "text": [
      "WARNING: AutoGraph could not transform <function Model.make_test_function.<locals>.test_function at 0x7fe3483d48c0> and will run it as-is.\n",
      "Please report this to the TensorFlow team. When filing the bug, set the verbosity to 10 (on Linux, `export AUTOGRAPH_VERBOSITY=10`) and attach the full output.\n",
      "Cause: 'arguments' object has no attribute 'posonlyargs'\n",
      "To silence this warning, decorate the function with @tf.autograph.experimental.do_not_convert\n",
      "WARNING:tensorflow:Detecting that an object or model or tf.train.Checkpoint is being deleted with unrestored values. See the following logs for the specific values in question. To silence these warnings, use `status.expect_partial()`. See https://www.tensorflow.org/api_docs/python/tf/train/Checkpoint#restorefor details about the status object returned by the restore function.\n"
     ]
    },
    {
     "name": "stderr",
     "output_type": "stream",
     "text": [
      "WARNING:tensorflow:Detecting that an object or model or tf.train.Checkpoint is being deleted with unrestored values. See the following logs for the specific values in question. To silence these warnings, use `status.expect_partial()`. See https://www.tensorflow.org/api_docs/python/tf/train/Checkpoint#restorefor details about the status object returned by the restore function.\n"
     ]
    },
    {
     "name": "stdout",
     "output_type": "stream",
     "text": [
      "WARNING:tensorflow:Value in checkpoint could not be found in the restored object: (root).layer_with_weights-2.kernel\n"
     ]
    },
    {
     "name": "stderr",
     "output_type": "stream",
     "text": [
      "WARNING:tensorflow:Value in checkpoint could not be found in the restored object: (root).layer_with_weights-2.kernel\n"
     ]
    },
    {
     "name": "stdout",
     "output_type": "stream",
     "text": [
      "WARNING:tensorflow:Value in checkpoint could not be found in the restored object: (root).layer_with_weights-2.bias\n"
     ]
    },
    {
     "name": "stderr",
     "output_type": "stream",
     "text": [
      "WARNING:tensorflow:Value in checkpoint could not be found in the restored object: (root).layer_with_weights-2.bias\n"
     ]
    },
    {
     "name": "stdout",
     "output_type": "stream",
     "text": [
      "WARNING:tensorflow:Value in checkpoint could not be found in the restored object: (root).layer_with_weights-1.forward_layer.cell.kernel\n"
     ]
    },
    {
     "name": "stderr",
     "output_type": "stream",
     "text": [
      "WARNING:tensorflow:Value in checkpoint could not be found in the restored object: (root).layer_with_weights-1.forward_layer.cell.kernel\n"
     ]
    },
    {
     "name": "stdout",
     "output_type": "stream",
     "text": [
      "WARNING:tensorflow:Value in checkpoint could not be found in the restored object: (root).layer_with_weights-1.forward_layer.cell.recurrent_kernel\n"
     ]
    },
    {
     "name": "stderr",
     "output_type": "stream",
     "text": [
      "WARNING:tensorflow:Value in checkpoint could not be found in the restored object: (root).layer_with_weights-1.forward_layer.cell.recurrent_kernel\n"
     ]
    },
    {
     "name": "stdout",
     "output_type": "stream",
     "text": [
      "WARNING:tensorflow:Value in checkpoint could not be found in the restored object: (root).layer_with_weights-1.forward_layer.cell.bias\n"
     ]
    },
    {
     "name": "stderr",
     "output_type": "stream",
     "text": [
      "WARNING:tensorflow:Value in checkpoint could not be found in the restored object: (root).layer_with_weights-1.forward_layer.cell.bias\n"
     ]
    },
    {
     "name": "stdout",
     "output_type": "stream",
     "text": [
      "WARNING:tensorflow:Value in checkpoint could not be found in the restored object: (root).layer_with_weights-1.backward_layer.cell.kernel\n"
     ]
    },
    {
     "name": "stderr",
     "output_type": "stream",
     "text": [
      "WARNING:tensorflow:Value in checkpoint could not be found in the restored object: (root).layer_with_weights-1.backward_layer.cell.kernel\n"
     ]
    },
    {
     "name": "stdout",
     "output_type": "stream",
     "text": [
      "WARNING:tensorflow:Value in checkpoint could not be found in the restored object: (root).layer_with_weights-1.backward_layer.cell.recurrent_kernel\n"
     ]
    },
    {
     "name": "stderr",
     "output_type": "stream",
     "text": [
      "WARNING:tensorflow:Value in checkpoint could not be found in the restored object: (root).layer_with_weights-1.backward_layer.cell.recurrent_kernel\n"
     ]
    },
    {
     "name": "stdout",
     "output_type": "stream",
     "text": [
      "WARNING:tensorflow:Value in checkpoint could not be found in the restored object: (root).layer_with_weights-1.backward_layer.cell.bias\n"
     ]
    },
    {
     "name": "stderr",
     "output_type": "stream",
     "text": [
      "WARNING:tensorflow:Value in checkpoint could not be found in the restored object: (root).layer_with_weights-1.backward_layer.cell.bias\n"
     ]
    },
    {
     "name": "stdout",
     "output_type": "stream",
     "text": [
      "WARNING:tensorflow:Value in checkpoint could not be found in the restored object: (root).optimizer's state 'm' for (root).layer_with_weights-2.kernel\n"
     ]
    },
    {
     "name": "stderr",
     "output_type": "stream",
     "text": [
      "WARNING:tensorflow:Value in checkpoint could not be found in the restored object: (root).optimizer's state 'm' for (root).layer_with_weights-2.kernel\n"
     ]
    },
    {
     "name": "stdout",
     "output_type": "stream",
     "text": [
      "WARNING:tensorflow:Value in checkpoint could not be found in the restored object: (root).optimizer's state 'm' for (root).layer_with_weights-2.bias\n"
     ]
    },
    {
     "name": "stderr",
     "output_type": "stream",
     "text": [
      "WARNING:tensorflow:Value in checkpoint could not be found in the restored object: (root).optimizer's state 'm' for (root).layer_with_weights-2.bias\n"
     ]
    },
    {
     "name": "stdout",
     "output_type": "stream",
     "text": [
      "WARNING:tensorflow:Value in checkpoint could not be found in the restored object: (root).optimizer's state 'm' for (root).layer_with_weights-1.forward_layer.cell.kernel\n"
     ]
    },
    {
     "name": "stderr",
     "output_type": "stream",
     "text": [
      "WARNING:tensorflow:Value in checkpoint could not be found in the restored object: (root).optimizer's state 'm' for (root).layer_with_weights-1.forward_layer.cell.kernel\n"
     ]
    },
    {
     "name": "stdout",
     "output_type": "stream",
     "text": [
      "WARNING:tensorflow:Value in checkpoint could not be found in the restored object: (root).optimizer's state 'm' for (root).layer_with_weights-1.forward_layer.cell.recurrent_kernel\n"
     ]
    },
    {
     "name": "stderr",
     "output_type": "stream",
     "text": [
      "WARNING:tensorflow:Value in checkpoint could not be found in the restored object: (root).optimizer's state 'm' for (root).layer_with_weights-1.forward_layer.cell.recurrent_kernel\n"
     ]
    },
    {
     "name": "stdout",
     "output_type": "stream",
     "text": [
      "WARNING:tensorflow:Value in checkpoint could not be found in the restored object: (root).optimizer's state 'm' for (root).layer_with_weights-1.forward_layer.cell.bias\n"
     ]
    },
    {
     "name": "stderr",
     "output_type": "stream",
     "text": [
      "WARNING:tensorflow:Value in checkpoint could not be found in the restored object: (root).optimizer's state 'm' for (root).layer_with_weights-1.forward_layer.cell.bias\n"
     ]
    },
    {
     "name": "stdout",
     "output_type": "stream",
     "text": [
      "WARNING:tensorflow:Value in checkpoint could not be found in the restored object: (root).optimizer's state 'm' for (root).layer_with_weights-1.backward_layer.cell.kernel\n"
     ]
    },
    {
     "name": "stderr",
     "output_type": "stream",
     "text": [
      "WARNING:tensorflow:Value in checkpoint could not be found in the restored object: (root).optimizer's state 'm' for (root).layer_with_weights-1.backward_layer.cell.kernel\n"
     ]
    },
    {
     "name": "stdout",
     "output_type": "stream",
     "text": [
      "WARNING:tensorflow:Value in checkpoint could not be found in the restored object: (root).optimizer's state 'm' for (root).layer_with_weights-1.backward_layer.cell.recurrent_kernel\n"
     ]
    },
    {
     "name": "stderr",
     "output_type": "stream",
     "text": [
      "WARNING:tensorflow:Value in checkpoint could not be found in the restored object: (root).optimizer's state 'm' for (root).layer_with_weights-1.backward_layer.cell.recurrent_kernel\n"
     ]
    },
    {
     "name": "stdout",
     "output_type": "stream",
     "text": [
      "WARNING:tensorflow:Value in checkpoint could not be found in the restored object: (root).optimizer's state 'm' for (root).layer_with_weights-1.backward_layer.cell.bias\n"
     ]
    },
    {
     "name": "stderr",
     "output_type": "stream",
     "text": [
      "WARNING:tensorflow:Value in checkpoint could not be found in the restored object: (root).optimizer's state 'm' for (root).layer_with_weights-1.backward_layer.cell.bias\n"
     ]
    },
    {
     "name": "stdout",
     "output_type": "stream",
     "text": [
      "WARNING:tensorflow:Value in checkpoint could not be found in the restored object: (root).optimizer's state 'v' for (root).layer_with_weights-2.kernel\n"
     ]
    },
    {
     "name": "stderr",
     "output_type": "stream",
     "text": [
      "WARNING:tensorflow:Value in checkpoint could not be found in the restored object: (root).optimizer's state 'v' for (root).layer_with_weights-2.kernel\n"
     ]
    },
    {
     "name": "stdout",
     "output_type": "stream",
     "text": [
      "WARNING:tensorflow:Value in checkpoint could not be found in the restored object: (root).optimizer's state 'v' for (root).layer_with_weights-2.bias\n"
     ]
    },
    {
     "name": "stderr",
     "output_type": "stream",
     "text": [
      "WARNING:tensorflow:Value in checkpoint could not be found in the restored object: (root).optimizer's state 'v' for (root).layer_with_weights-2.bias\n"
     ]
    },
    {
     "name": "stdout",
     "output_type": "stream",
     "text": [
      "WARNING:tensorflow:Value in checkpoint could not be found in the restored object: (root).optimizer's state 'v' for (root).layer_with_weights-1.forward_layer.cell.kernel\n"
     ]
    },
    {
     "name": "stderr",
     "output_type": "stream",
     "text": [
      "WARNING:tensorflow:Value in checkpoint could not be found in the restored object: (root).optimizer's state 'v' for (root).layer_with_weights-1.forward_layer.cell.kernel\n"
     ]
    },
    {
     "name": "stdout",
     "output_type": "stream",
     "text": [
      "WARNING:tensorflow:Value in checkpoint could not be found in the restored object: (root).optimizer's state 'v' for (root).layer_with_weights-1.forward_layer.cell.recurrent_kernel\n"
     ]
    },
    {
     "name": "stderr",
     "output_type": "stream",
     "text": [
      "WARNING:tensorflow:Value in checkpoint could not be found in the restored object: (root).optimizer's state 'v' for (root).layer_with_weights-1.forward_layer.cell.recurrent_kernel\n"
     ]
    },
    {
     "name": "stdout",
     "output_type": "stream",
     "text": [
      "WARNING:tensorflow:Value in checkpoint could not be found in the restored object: (root).optimizer's state 'v' for (root).layer_with_weights-1.forward_layer.cell.bias\n"
     ]
    },
    {
     "name": "stderr",
     "output_type": "stream",
     "text": [
      "WARNING:tensorflow:Value in checkpoint could not be found in the restored object: (root).optimizer's state 'v' for (root).layer_with_weights-1.forward_layer.cell.bias\n"
     ]
    },
    {
     "name": "stdout",
     "output_type": "stream",
     "text": [
      "WARNING:tensorflow:Value in checkpoint could not be found in the restored object: (root).optimizer's state 'v' for (root).layer_with_weights-1.backward_layer.cell.kernel\n"
     ]
    },
    {
     "name": "stderr",
     "output_type": "stream",
     "text": [
      "WARNING:tensorflow:Value in checkpoint could not be found in the restored object: (root).optimizer's state 'v' for (root).layer_with_weights-1.backward_layer.cell.kernel\n"
     ]
    },
    {
     "name": "stdout",
     "output_type": "stream",
     "text": [
      "WARNING:tensorflow:Value in checkpoint could not be found in the restored object: (root).optimizer's state 'v' for (root).layer_with_weights-1.backward_layer.cell.recurrent_kernel\n"
     ]
    },
    {
     "name": "stderr",
     "output_type": "stream",
     "text": [
      "WARNING:tensorflow:Value in checkpoint could not be found in the restored object: (root).optimizer's state 'v' for (root).layer_with_weights-1.backward_layer.cell.recurrent_kernel\n"
     ]
    },
    {
     "name": "stdout",
     "output_type": "stream",
     "text": [
      "WARNING:tensorflow:Value in checkpoint could not be found in the restored object: (root).optimizer's state 'v' for (root).layer_with_weights-1.backward_layer.cell.bias\n"
     ]
    },
    {
     "name": "stderr",
     "output_type": "stream",
     "text": [
      "WARNING:tensorflow:Value in checkpoint could not be found in the restored object: (root).optimizer's state 'v' for (root).layer_with_weights-1.backward_layer.cell.bias\n"
     ]
    },
    {
     "name": "stdout",
     "output_type": "stream",
     "text": [
      "39/39 [==============================] - 27s 410ms/step - loss: 1.5974 - accuracy: 0.5995 - val_loss: 1.5844 - val_accuracy: 0.8835\n",
      "Epoch 2/10\n",
      "39/39 [==============================] - 19s 487ms/step - loss: 1.5672 - accuracy: 0.9021 - val_loss: 1.5445 - val_accuracy: 0.9191\n",
      "Epoch 3/10\n",
      "39/39 [==============================] - 19s 480ms/step - loss: 1.5072 - accuracy: 0.9167 - val_loss: 1.4533 - val_accuracy: 0.9353\n",
      "Epoch 4/10\n",
      "39/39 [==============================] - 20s 503ms/step - loss: 1.2822 - accuracy: 0.9102 - val_loss: 0.9421 - val_accuracy: 0.8188\n",
      "Epoch 5/10\n",
      "39/39 [==============================] - 18s 473ms/step - loss: 0.6270 - accuracy: 0.8697 - val_loss: 0.4961 - val_accuracy: 0.8964\n",
      "Epoch 6/10\n",
      "39/39 [==============================] - 20s 515ms/step - loss: 0.3631 - accuracy: 0.9167 - val_loss: 0.3400 - val_accuracy: 0.9320\n",
      "Epoch 7/10\n",
      "39/39 [==============================] - 19s 500ms/step - loss: 0.2751 - accuracy: 0.9272 - val_loss: 0.3106 - val_accuracy: 0.9288\n",
      "Epoch 8/10\n",
      "39/39 [==============================] - 19s 497ms/step - loss: 0.2363 - accuracy: 0.9401 - val_loss: 0.2952 - val_accuracy: 0.9288\n",
      "Epoch 9/10\n",
      "39/39 [==============================] - 20s 522ms/step - loss: 0.1842 - accuracy: 0.9531 - val_loss: 0.3358 - val_accuracy: 0.9126\n",
      "Epoch 10/10\n",
      "39/39 [==============================] - 19s 498ms/step - loss: 0.1648 - accuracy: 0.9604 - val_loss: 0.2954 - val_accuracy: 0.9288\n"
     ]
    }
   ],
   "source": [
    "rnn_history = rnn_model.fit(X_train_Glove, y_train, \n",
    "                    epochs=10,\n",
    "                    validation_data=[X_test_Glove,y_test],\n",
    "                    verbose = 1,\n",
    "                    callbacks = [es],\n",
    "                    \n",
    "                    batch_size = 32                    \n",
    "                   )"
   ]
  },
  {
   "cell_type": "code",
   "execution_count": null,
   "id": "92d36875",
   "metadata": {},
   "outputs": [],
   "source": [
    "filename = \"rnn1_model.pkl\"\n",
    "pickle.dump(rnn_model, open(filename, 'wb'))"
   ]
  },
  {
   "cell_type": "code",
   "execution_count": 160,
   "id": "d3ec20d5",
   "metadata": {},
   "outputs": [
    {
     "data": {
      "image/png": "[encoded data removed]",
      "text/plain": [
       "<Figure size 432x288 with 1 Axes>"
      ]
     },
     "metadata": {},
     "output_type": "display_data"
    },
    {
     "data": {
      "image/png": "[encoded data removed]",
      "text/plain": [
       "<Figure size 432x288 with 1 Axes>"
      ]
     },
     "metadata": {},
     "output_type": "display_data"
    }
   ],
   "source": [
    "def plot_graphs(history, string):\n",
    "    plt.plot(history.history[string])\n",
    "    plt.plot(history.history['val_'+string], '')\n",
    "    plt.xlabel(\"Epochs\")\n",
    "    plt.ylabel(string)\n",
    "    plt.legend([string, 'val_'+string])\n",
    "    plt.show()\n",
    "plot_graphs(rnn_history, 'accuracy')\n",
    "plot_graphs(rnn_history, 'loss')\n"
   ]
  },
  {
   "cell_type": "code",
   "execution_count": 161,
   "id": "1d64bba4",
   "metadata": {},
   "outputs": [
    {
     "name": "stdout",
     "output_type": "stream",
     "text": [
      "RNN Model Evaluation\n",
      "WARNING:tensorflow:AutoGraph could not transform <function Model.make_predict_function.<locals>.predict_function at 0x7fe3b3b36710> and will run it as-is.\n",
      "Please report this to the TensorFlow team. When filing the bug, set the verbosity to 10 (on Linux, `export AUTOGRAPH_VERBOSITY=10`) and attach the full output.\n",
      "Cause: 'arguments' object has no attribute 'posonlyargs'\n",
      "To silence this warning, decorate the function with @tf.autograph.experimental.do_not_convert\n"
     ]
    },
    {
     "name": "stderr",
     "output_type": "stream",
     "text": [
      "WARNING:tensorflow:AutoGraph could not transform <function Model.make_predict_function.<locals>.predict_function at 0x7fe3b3b36710> and will run it as-is.\n",
      "Please report this to the TensorFlow team. When filing the bug, set the verbosity to 10 (on Linux, `export AUTOGRAPH_VERBOSITY=10`) and attach the full output.\n",
      "Cause: 'arguments' object has no attribute 'posonlyargs'\n",
      "To silence this warning, decorate the function with @tf.autograph.experimental.do_not_convert\n"
     ]
    },
    {
     "name": "stdout",
     "output_type": "stream",
     "text": [
      "WARNING: AutoGraph could not transform <function Model.make_predict_function.<locals>.predict_function at 0x7fe3b3b36710> and will run it as-is.\n",
      "Please report this to the TensorFlow team. When filing the bug, set the verbosity to 10 (on Linux, `export AUTOGRAPH_VERBOSITY=10`) and attach the full output.\n",
      "Cause: 'arguments' object has no attribute 'posonlyargs'\n",
      "To silence this warning, decorate the function with @tf.autograph.experimental.do_not_convert\n",
      "              precision    recall  f1-score   support\n",
      "\n",
      "           0       0.79      0.94      0.86        68\n",
      "           1       0.98      0.89      0.93        63\n",
      "           2       0.95      0.90      0.92        58\n",
      "           3       0.98      0.90      0.94        49\n",
      "           4       1.00      1.00      1.00        71\n",
      "\n",
      "    accuracy                           0.93       309\n",
      "   macro avg       0.94      0.92      0.93       309\n",
      "weighted avg       0.94      0.93      0.93       309\n",
      "\n",
      "\n",
      "\n",
      "LSTM test Accuracy 0.9288025889967637\n"
     ]
    },
    {
     "data": {
      "image/png": "[encoded data removed]",
      "text/plain": [
       "<Figure size 360x288 with 2 Axes>"
      ]
     },
     "metadata": {},
     "output_type": "display_data"
    }
   ],
   "source": [
    "print(\"RNN Model Evaluation\")\n",
    "rnn_predicted = rnn_model.predict(X_test_Glove)\n",
    "rnn_predicted=np.argmax(rnn_predicted,axis=1)\n",
    "print(classification_report(y_test, rnn_predicted))\n",
    "print(\"\\n\")\n",
    "rnn_cm = confusion_matrix(y_test, rnn_predicted)\n",
    "rnn_accuracy = accuracy_score(y_test, rnn_predicted)\n",
    "print(\"LSTM test Accuracy\",rnn_accuracy)\n",
    "cm_df = pd.DataFrame(rnn_cm,index = ['0','1','2','3','4'], \n",
    "                     columns = ['0','1','2','3','4'])\n",
    "# Confusion matrix is predicting values outside expected range\n",
    "#Plotting the confusion matrix\n",
    "plt.figure(figsize=(5,4))\n",
    "sns.heatmap(cm_df, annot=True)\n",
    "plt.title('Confusion Matrix')\n",
    "plt.ylabel('Actual Values')\n",
    "plt.xlabel('Predicted Values')\n",
    "plt.show()\n",
    "\n"
   ]
  },
  {
   "cell_type": "markdown",
   "id": "d1cd1222",
   "metadata": {},
   "source": [
    "### GRU model "
   ]
  },
  {
   "cell_type": "code",
   "execution_count": 147,
   "id": "a2f79eef",
   "metadata": {},
   "outputs": [
    {
     "name": "stdout",
     "output_type": "stream",
     "text": [
      "Model: \"sequential_16\"\n",
      "_________________________________________________________________\n",
      " Layer (type)                Output Shape              Param #   \n",
      "=================================================================\n",
      " embedding_10 (Embedding)    (None, None, 50)          158950    \n",
      "                                                                 \n",
      " gru_4 (GRU)                 (None, 128)               69120     \n",
      "                                                                 \n",
      " dropout_34 (Dropout)        (None, 128)               0         \n",
      "                                                                 \n",
      " dense_23 (Dense)            (None, 5)                 645       \n",
      "                                                                 \n",
      "=================================================================\n",
      "Total params: 228,715\n",
      "Trainable params: 228,715\n",
      "Non-trainable params: 0\n",
      "_________________________________________________________________\n",
      "None\n"
     ]
    }
   ],
   "source": [
    "emb_dim = embedding_matrix.shape[1]\n",
    "gru_model = Sequential()\n",
    "gru_model.add(Embedding(vocab_size+1, emb_dim, trainable = True, weights=[embedding_matrix]))\n",
    "gru_model.add(GRU(128, return_sequences=False))\n",
    "gru_model.add(Dropout(0.5))\n",
    "gru_model.add(Dense(5, activation = 'softmax'))\n",
    "gru_model.compile(loss='sparse_categorical_crossentropy', optimizer='adam', metrics=['accuracy'])\n",
    "print(gru_model.summary())"
   ]
  },
  {
   "cell_type": "code",
   "execution_count": 148,
   "id": "b9654387",
   "metadata": {},
   "outputs": [
    {
     "name": "stdout",
     "output_type": "stream",
     "text": [
      "Epoch 1/5\n",
      "WARNING:tensorflow:AutoGraph could not transform <function Model.make_train_function.<locals>.train_function at 0x7fe40874a680> and will run it as-is.\n",
      "Please report this to the TensorFlow team. When filing the bug, set the verbosity to 10 (on Linux, `export AUTOGRAPH_VERBOSITY=10`) and attach the full output.\n",
      "Cause: 'arguments' object has no attribute 'posonlyargs'\n",
      "To silence this warning, decorate the function with @tf.autograph.experimental.do_not_convert\n"
     ]
    },
    {
     "name": "stderr",
     "output_type": "stream",
     "text": [
      "WARNING:tensorflow:AutoGraph could not transform <function Model.make_train_function.<locals>.train_function at 0x7fe40874a680> and will run it as-is.\n",
      "Please report this to the TensorFlow team. When filing the bug, set the verbosity to 10 (on Linux, `export AUTOGRAPH_VERBOSITY=10`) and attach the full output.\n",
      "Cause: 'arguments' object has no attribute 'posonlyargs'\n",
      "To silence this warning, decorate the function with @tf.autograph.experimental.do_not_convert\n"
     ]
    },
    {
     "name": "stdout",
     "output_type": "stream",
     "text": [
      "WARNING: AutoGraph could not transform <function Model.make_train_function.<locals>.train_function at 0x7fe40874a680> and will run it as-is.\n",
      "Please report this to the TensorFlow team. When filing the bug, set the verbosity to 10 (on Linux, `export AUTOGRAPH_VERBOSITY=10`) and attach the full output.\n",
      "Cause: 'arguments' object has no attribute 'posonlyargs'\n",
      "To silence this warning, decorate the function with @tf.autograph.experimental.do_not_convert\n",
      "39/39 [==============================] - ETA: 0s - loss: 1.3042 - accuracy: 0.6570WARNING:tensorflow:AutoGraph could not transform <function Model.make_test_function.<locals>.test_function at 0x7fe3b2767dd0> and will run it as-is.\n",
      "Please report this to the TensorFlow team. When filing the bug, set the verbosity to 10 (on Linux, `export AUTOGRAPH_VERBOSITY=10`) and attach the full output.\n",
      "Cause: 'arguments' object has no attribute 'posonlyargs'\n",
      "To silence this warning, decorate the function with @tf.autograph.experimental.do_not_convert\n"
     ]
    },
    {
     "name": "stderr",
     "output_type": "stream",
     "text": [
      "WARNING:tensorflow:AutoGraph could not transform <function Model.make_test_function.<locals>.test_function at 0x7fe3b2767dd0> and will run it as-is.\n",
      "Please report this to the TensorFlow team. When filing the bug, set the verbosity to 10 (on Linux, `export AUTOGRAPH_VERBOSITY=10`) and attach the full output.\n",
      "Cause: 'arguments' object has no attribute 'posonlyargs'\n",
      "To silence this warning, decorate the function with @tf.autograph.experimental.do_not_convert\n"
     ]
    },
    {
     "name": "stdout",
     "output_type": "stream",
     "text": [
      "WARNING: AutoGraph could not transform <function Model.make_test_function.<locals>.test_function at 0x7fe3b2767dd0> and will run it as-is.\n",
      "Please report this to the TensorFlow team. When filing the bug, set the verbosity to 10 (on Linux, `export AUTOGRAPH_VERBOSITY=10`) and attach the full output.\n",
      "Cause: 'arguments' object has no attribute 'posonlyargs'\n",
      "To silence this warning, decorate the function with @tf.autograph.experimental.do_not_convert\n",
      "39/39 [==============================] - 20s 444ms/step - loss: 1.3042 - accuracy: 0.6570 - val_loss: 0.6750 - val_accuracy: 0.7379\n",
      "Epoch 2/5\n",
      "39/39 [==============================] - 16s 423ms/step - loss: 0.4534 - accuracy: 0.7937 - val_loss: 0.3903 - val_accuracy: 0.8026\n",
      "Epoch 3/5\n",
      "39/39 [==============================] - 16s 421ms/step - loss: 0.2926 - accuracy: 0.9134 - val_loss: 0.3545 - val_accuracy: 0.8997\n",
      "Epoch 4/5\n",
      "39/39 [==============================] - 17s 438ms/step - loss: 0.2130 - accuracy: 0.9409 - val_loss: 0.2905 - val_accuracy: 0.9094\n",
      "Epoch 5/5\n",
      "39/39 [==============================] - 17s 439ms/step - loss: 0.1189 - accuracy: 0.9668 - val_loss: 0.2924 - val_accuracy: 0.9223\n"
     ]
    }
   ],
   "source": [
    "history = gru_model.fit(X_train_Glove, y_train, \n",
    "                        validation_data=(X_test_Glove, y_test), \n",
    "                        batch_size = 32, epochs = 5)"
   ]
  },
  {
   "cell_type": "code",
   "execution_count": 158,
   "id": "a4b2746c",
   "metadata": {},
   "outputs": [
    {
     "data": {
      "image/png": "[encoded data removed]",
      "text/plain": [
       "<Figure size 432x288 with 1 Axes>"
      ]
     },
     "metadata": {},
     "output_type": "display_data"
    },
    {
     "data": {
      "image/png": "[encoded data removed]",
      "text/plain": [
       "<Figure size 432x288 with 1 Axes>"
      ]
     },
     "metadata": {},
     "output_type": "display_data"
    }
   ],
   "source": [
    "def plot_graphs(history, string):\n",
    "    plt.plot(history.history[string])\n",
    "    plt.plot(history.history['val_'+string], '')\n",
    "    plt.xlabel(\"Epochs\")\n",
    "    plt.ylabel(string)\n",
    "    plt.legend([string, 'val_'+string])\n",
    "    plt.show()\n",
    "plot_graphs(history, 'accuracy')\n",
    "plot_graphs(history, 'loss')"
   ]
  },
  {
   "cell_type": "code",
   "execution_count": 159,
   "id": "de4051f0",
   "metadata": {},
   "outputs": [
    {
     "name": "stdout",
     "output_type": "stream",
     "text": [
      "GRU Model Evaluation\n",
      "WARNING:tensorflow:AutoGraph could not transform <function Model.make_predict_function.<locals>.predict_function at 0x7fe34ba7ab90> and will run it as-is.\n",
      "Please report this to the TensorFlow team. When filing the bug, set the verbosity to 10 (on Linux, `export AUTOGRAPH_VERBOSITY=10`) and attach the full output.\n",
      "Cause: 'arguments' object has no attribute 'posonlyargs'\n",
      "To silence this warning, decorate the function with @tf.autograph.experimental.do_not_convert\n"
     ]
    },
    {
     "name": "stderr",
     "output_type": "stream",
     "text": [
      "WARNING:tensorflow:AutoGraph could not transform <function Model.make_predict_function.<locals>.predict_function at 0x7fe34ba7ab90> and will run it as-is.\n",
      "Please report this to the TensorFlow team. When filing the bug, set the verbosity to 10 (on Linux, `export AUTOGRAPH_VERBOSITY=10`) and attach the full output.\n",
      "Cause: 'arguments' object has no attribute 'posonlyargs'\n",
      "To silence this warning, decorate the function with @tf.autograph.experimental.do_not_convert\n"
     ]
    },
    {
     "name": "stdout",
     "output_type": "stream",
     "text": [
      "WARNING: AutoGraph could not transform <function Model.make_predict_function.<locals>.predict_function at 0x7fe34ba7ab90> and will run it as-is.\n",
      "Please report this to the TensorFlow team. When filing the bug, set the verbosity to 10 (on Linux, `export AUTOGRAPH_VERBOSITY=10`) and attach the full output.\n",
      "Cause: 'arguments' object has no attribute 'posonlyargs'\n",
      "To silence this warning, decorate the function with @tf.autograph.experimental.do_not_convert\n",
      "              precision    recall  f1-score   support\n",
      "\n",
      "           0       0.80      0.90      0.85        68\n",
      "           1       0.95      0.90      0.93        63\n",
      "           2       0.93      0.90      0.91        58\n",
      "           3       0.98      0.90      0.94        49\n",
      "           4       0.99      1.00      0.99        71\n",
      "\n",
      "    accuracy                           0.92       309\n",
      "   macro avg       0.93      0.92      0.92       309\n",
      "weighted avg       0.93      0.92      0.92       309\n",
      "\n",
      "\n",
      "\n",
      "LSTM test Accuracy 0.9223300970873787\n"
     ]
    },
    {
     "data": {
      "image/png": "[encoded data removed]",
      "text/plain": [
       "<Figure size 360x288 with 2 Axes>"
      ]
     },
     "metadata": {},
     "output_type": "display_data"
    }
   ],
   "source": [
    "print(\"GRU Model Evaluation\")\n",
    "gru_predicted = gru_model.predict(X_test_Glove)\n",
    "gru_predicted=np.argmax(gru_predicted,axis=1)\n",
    "print(classification_report(y_test, gru_predicted))\n",
    "print(\"\\n\")\n",
    "gru_cm = confusion_matrix(y_test, gru_predicted)\n",
    "gru_accuracy = accuracy_score(y_test, gru_predicted)\n",
    "print(\"LSTM test Accuracy\",gru_accuracy)\n",
    "cm_df = pd.DataFrame(gru_cm,index = ['0','1','2','3','4'], \n",
    "                     columns = ['0','1','2','3','4'])\n",
    "# Confusion matrix is predicting values outside expected range\n",
    "#Plotting the confusion matrix\n",
    "plt.figure(figsize=(5,4))\n",
    "sns.heatmap(cm_df, annot=True)\n",
    "plt.title('Confusion Matrix')\n",
    "plt.ylabel('Actual Values')\n",
    "plt.xlabel('Predicted Values')\n",
    "plt.show()"
   ]
  },
  {
   "cell_type": "code",
   "execution_count": null,
   "id": "eed9280b",
   "metadata": {},
   "outputs": [],
   "source": [
    "filename = \"gru_model.pkl\"\n",
    "pickle.dump(gru_model, open(filename, 'wb'))"
   ]
  },
  {
   "cell_type": "code",
   "execution_count": 149,
   "id": "cfbd960c",
   "metadata": {},
   "outputs": [
    {
     "name": "stdout",
     "output_type": "stream",
     "text": [
      "Model: \"sequential_17\"\n",
      "_________________________________________________________________\n",
      " Layer (type)                Output Shape              Param #   \n",
      "=================================================================\n",
      " embedding_11 (Embedding)    (None, None, 50)          158950    \n",
      "                                                                 \n",
      " gru_5 (GRU)                 (None, None, 256)         236544    \n",
      "                                                                 \n",
      " simple_rnn_1 (SimpleRNN)    (None, 128)               49280     \n",
      "                                                                 \n",
      " dense_24 (Dense)            (None, 5)                 645       \n",
      "                                                                 \n",
      "=================================================================\n",
      "Total params: 445,419\n",
      "Trainable params: 445,419\n",
      "Non-trainable params: 0\n",
      "_________________________________________________________________\n"
     ]
    }
   ],
   "source": [
    "rn_model = Sequential()\n",
    "rn_model.add(Embedding(input_dim=vocab_size+1, output_dim=50))\n",
    "\n",
    "# The output of GRU will be a 3D tensor of shape (batch_size, timesteps, 256)\n",
    "rn_model.add(GRU(256, return_sequences=True))\n",
    "\n",
    "# The output of SimpleRNN will be a 2D tensor of shape (batch_size, 128)\n",
    "rn_model.add(SimpleRNN(128))\n",
    "\n",
    "rn_model.add(Dense(5, activation = 'softmax'))\n",
    "\n",
    "rn_model.summary()"
   ]
  },
  {
   "cell_type": "code",
   "execution_count": 150,
   "id": "fcd530ed",
   "metadata": {},
   "outputs": [],
   "source": [
    "rn_model.compile(loss='sparse_categorical_crossentropy', optimizer='adam', metrics=['accuracy'])"
   ]
  },
  {
   "cell_type": "code",
   "execution_count": 151,
   "id": "4f61e4e1",
   "metadata": {},
   "outputs": [
    {
     "name": "stdout",
     "output_type": "stream",
     "text": [
      "Epoch 1/5\n",
      "WARNING:tensorflow:AutoGraph could not transform <function Model.make_train_function.<locals>.train_function at 0x7fe3103059e0> and will run it as-is.\n",
      "Please report this to the TensorFlow team. When filing the bug, set the verbosity to 10 (on Linux, `export AUTOGRAPH_VERBOSITY=10`) and attach the full output.\n",
      "Cause: 'arguments' object has no attribute 'posonlyargs'\n",
      "To silence this warning, decorate the function with @tf.autograph.experimental.do_not_convert\n"
     ]
    },
    {
     "name": "stderr",
     "output_type": "stream",
     "text": [
      "WARNING:tensorflow:AutoGraph could not transform <function Model.make_train_function.<locals>.train_function at 0x7fe3103059e0> and will run it as-is.\n",
      "Please report this to the TensorFlow team. When filing the bug, set the verbosity to 10 (on Linux, `export AUTOGRAPH_VERBOSITY=10`) and attach the full output.\n",
      "Cause: 'arguments' object has no attribute 'posonlyargs'\n",
      "To silence this warning, decorate the function with @tf.autograph.experimental.do_not_convert\n"
     ]
    },
    {
     "name": "stdout",
     "output_type": "stream",
     "text": [
      "WARNING: AutoGraph could not transform <function Model.make_train_function.<locals>.train_function at 0x7fe3103059e0> and will run it as-is.\n",
      "Please report this to the TensorFlow team. When filing the bug, set the verbosity to 10 (on Linux, `export AUTOGRAPH_VERBOSITY=10`) and attach the full output.\n",
      "Cause: 'arguments' object has no attribute 'posonlyargs'\n",
      "To silence this warning, decorate the function with @tf.autograph.experimental.do_not_convert\n",
      "39/39 [==============================] - ETA: 0s - loss: 0.7679 - accuracy: 0.7508WARNING:tensorflow:AutoGraph could not transform <function Model.make_test_function.<locals>.test_function at 0x7fe40487eb90> and will run it as-is.\n",
      "Please report this to the TensorFlow team. When filing the bug, set the verbosity to 10 (on Linux, `export AUTOGRAPH_VERBOSITY=10`) and attach the full output.\n",
      "Cause: 'arguments' object has no attribute 'posonlyargs'\n",
      "To silence this warning, decorate the function with @tf.autograph.experimental.do_not_convert\n"
     ]
    },
    {
     "name": "stderr",
     "output_type": "stream",
     "text": [
      "WARNING:tensorflow:AutoGraph could not transform <function Model.make_test_function.<locals>.test_function at 0x7fe40487eb90> and will run it as-is.\n",
      "Please report this to the TensorFlow team. When filing the bug, set the verbosity to 10 (on Linux, `export AUTOGRAPH_VERBOSITY=10`) and attach the full output.\n",
      "Cause: 'arguments' object has no attribute 'posonlyargs'\n",
      "To silence this warning, decorate the function with @tf.autograph.experimental.do_not_convert\n"
     ]
    },
    {
     "name": "stdout",
     "output_type": "stream",
     "text": [
      "WARNING: AutoGraph could not transform <function Model.make_test_function.<locals>.test_function at 0x7fe40487eb90> and will run it as-is.\n",
      "Please report this to the TensorFlow team. When filing the bug, set the verbosity to 10 (on Linux, `export AUTOGRAPH_VERBOSITY=10`) and attach the full output.\n",
      "Cause: 'arguments' object has no attribute 'posonlyargs'\n",
      "To silence this warning, decorate the function with @tf.autograph.experimental.do_not_convert\n",
      "39/39 [==============================] - 45s 1s/step - loss: 0.7679 - accuracy: 0.7508 - val_loss: 0.3493 - val_accuracy: 0.9385\n",
      "Epoch 2/5\n",
      "39/39 [==============================] - 38s 966ms/step - loss: 0.2505 - accuracy: 0.9304 - val_loss: 0.2334 - val_accuracy: 0.9353\n",
      "Epoch 3/5\n",
      "39/39 [==============================] - 39s 990ms/step - loss: 0.1277 - accuracy: 0.9628 - val_loss: 0.2561 - val_accuracy: 0.9159\n",
      "Epoch 4/5\n",
      "39/39 [==============================] - 39s 1s/step - loss: 0.0458 - accuracy: 0.9935 - val_loss: 0.2709 - val_accuracy: 0.9223\n",
      "Epoch 5/5\n",
      "39/39 [==============================] - 38s 984ms/step - loss: 0.0188 - accuracy: 0.9968 - val_loss: 0.2828 - val_accuracy: 0.9126\n"
     ]
    }
   ],
   "source": [
    "rn_history = rn_model.fit(X_train_Glove, y_train, \n",
    "                        validation_data=(X_test_Glove, y_test), \n",
    "                        batch_size = 32, epochs = 5)"
   ]
  },
  {
   "cell_type": "code",
   "execution_count": 152,
   "id": "a21d0f4b",
   "metadata": {},
   "outputs": [
    {
     "data": {
      "image/png": "[encoded data removed]",
      "text/plain": [
       "<Figure size 432x288 with 1 Axes>"
      ]
     },
     "metadata": {},
     "output_type": "display_data"
    },
    {
     "data": {
      "image/png": "[encoded data removed]",
      "text/plain": [
       "<Figure size 432x288 with 1 Axes>"
      ]
     },
     "metadata": {},
     "output_type": "display_data"
    }
   ],
   "source": [
    "def plot_graphs(history, string):\n",
    "    plt.plot(history.history[string])\n",
    "    plt.plot(history.history['val_'+string], '')\n",
    "    plt.xlabel(\"Epochs\")\n",
    "    plt.ylabel(string)\n",
    "    plt.legend([string, 'val_'+string])\n",
    "    plt.show()\n",
    "plot_graphs(rn_history, 'accuracy')\n",
    "plot_graphs(rn_history, 'loss')"
   ]
  },
  {
   "cell_type": "code",
   "execution_count": 156,
   "id": "a2149d34",
   "metadata": {},
   "outputs": [
    {
     "name": "stdout",
     "output_type": "stream",
     "text": [
      "RNN Model Evaluation\n",
      "              precision    recall  f1-score   support\n",
      "\n",
      "           0       0.82      0.94      0.88        68\n",
      "           1       0.92      0.90      0.91        63\n",
      "           2       1.00      0.90      0.95        58\n",
      "           3       0.96      0.90      0.93        49\n",
      "           4       1.00      1.00      1.00        71\n",
      "\n",
      "    accuracy                           0.93       309\n",
      "   macro avg       0.94      0.93      0.93       309\n",
      "weighted avg       0.94      0.93      0.93       309\n",
      "\n",
      "\n",
      "\n",
      "RNN test Accuracy 0.9320388349514563\n"
     ]
    },
    {
     "data": {
      "image/png": "[encoded data removed]",
      "text/plain": [
       "<Figure size 360x288 with 2 Axes>"
      ]
     },
     "metadata": {},
     "output_type": "display_data"
    }
   ],
   "source": [
    "print(\"RNN Model Evaluation\")\n",
    "rn_predicted = lstm_model.predict(X_test_Glove)\n",
    "rn_predicted=np.argmax(rn_predicted,axis=1)\n",
    "print(classification_report(y_test, rn_predicted))\n",
    "print(\"\\n\")\n",
    "rn_cm = confusion_matrix(y_test, rn_predicted)\n",
    "rn_accuracy = accuracy_score(y_test, rn_predicted)\n",
    "print(\"RNN test Accuracy\",rn_accuracy)\n",
    "cm_df = pd.DataFrame(rn_cm,index = ['0','1','2','3','4'], \n",
    "                     columns = ['0','1','2','3','4'])\n",
    "# Confusion matrix is predicting values outside expected range\n",
    "#Plotting the confusion matrix\n",
    "plt.figure(figsize=(5,4))\n",
    "sns.heatmap(cm_df, annot=True)\n",
    "plt.title('Confusion Matrix')\n",
    "plt.ylabel('Actual Values')\n",
    "plt.xlabel('Predicted Values')\n",
    "plt.show()"
   ]
  },
  {
   "cell_type": "code",
   "execution_count": null,
   "id": "59d47105",
   "metadata": {},
   "outputs": [],
   "source": []
  }
 ],
 "metadata": {
  "kernelspec": {
   "display_name": "Tensorflow-GPU",
   "language": "python",
   "name": "tf-gpu"
  },
  "language_info": {
   "codemirror_mode": {
    "name": "ipython",
    "version": 3
   },
   "file_extension": ".py",
   "mimetype": "text/x-python",
   "name": "python",
   "nbconvert_exporter": "python",
   "pygments_lexer": "ipython3",
   "version": "3.7.11"
  }
 },
 "nbformat": 4,
 "nbformat_minor": 5
}
